{
 "cells": [
  {
   "cell_type": "code",
   "execution_count": null,
   "metadata": {},
   "outputs": [],
   "source": [
    "import copy\n",
    "\n",
    "import numpy as np\n",
    "import matplotlib.pyplot as plt\n",
    "from scipy.stats import norm\n",
    "\n",
    "from sherpa.utils import poisson_noise, dataspace1d, dataspace2d\n",
    "from sherpa.models import Gauss1D, Const1D, Gauss2D, Const2D\n",
    "from sherpa.data import Data1DInt, Data2DInt\n",
    "from sherpa.fit import Fit\n",
    "from sherpa.stats import Cash\n",
    "from sherpa.optmethods import LevMar, NelderMead, MonCar\n",
    "from sherpa.plot import DataPlot, ModelPlot"
   ]
  },
  {
   "cell_type": "code",
   "execution_count": null,
   "metadata": {},
   "outputs": [],
   "source": [
    "xlo, xhi, y = dataspace1d(-5, 5, 0.25)\n",
    "crossdisp = Data1DInt(name=\"crossdisp\", xlo=xlo, xhi=xhi, y=y)\n",
    "gline = Gauss1D(name=\"gline\")\n",
    "bkg = Const1D(name=\"bkg\")\n",
    "\n",
    "bkg.c0 = 2\n",
    "gline.fwhm = 3\n",
    "gline.ampl = 15\n",
    "gline.pos = 0\n",
    "\n",
    "orig_model = gline + bkg"
   ]
  },
  {
   "cell_type": "code",
   "execution_count": null,
   "metadata": {},
   "outputs": [],
   "source": [
    "# Make an new, independent model that we can use to fit without changing the numbers in the original model\n",
    "# However, set starting values close, so that the fit has a good chance of converging.\n",
    "fgline = Gauss1D(name=\"fgline\")\n",
    "fbkg = Const1D(name=\"fbkg\")\n",
    "\n",
    "fbkg.c0 = 2.1\n",
    "fbkg.c0.min = 0\n",
    "fgline.fwhm = 3.0\n",
    "fgline.ampl = 21.6\n",
    "fgline.ampl.min = 0\n",
    "fgline.pos = 0\n",
    "# Assume we know the FWHM from the CALDB and the pos because we centered the source.\n",
    "fgline.fwhm.frozen = True\n",
    "fgline.pos.frozen = True\n",
    "\n",
    "fmodel = fgline + fbkg\n",
    "\n",
    "fitter = Fit(crossdisp, fmodel, stat=Cash(), method=LevMar())\n",
    "confidencer = Confidence()"
   ]
  },
  {
   "cell_type": "code",
   "execution_count": null,
   "metadata": {},
   "outputs": [],
   "source": [
    "est_res.parvals[0], est_res.parmins[0], est_res.parmaxes[0]"
   ]
  },
  {
   "cell_type": "code",
   "execution_count": null,
   "metadata": {},
   "outputs": [],
   "source": [
    "n = 10\n",
    "\n",
    "full_model_results = np.zeros(n, 3)\n",
    "\n",
    "for i in range(n):\n",
    "    y = poisson_noise(orig_model(xlo, xhi))\n",
    "    crossdisp.set_dep(y)\n",
    "    # reset the model to the something sensible, in case the previous fit messed up\n",
    "    fbkg.c0 = 2.1\n",
    "    fbkg.c0.min = 0\n",
    "    fgline.fwhm = 3.\n",
    "    fgline.ampl = 21.6\n",
    "\n",
    "    fitter.fit()\n",
    "    fit_res = fitter.est_errors()\n",
    "    full_model_results[i, :] = [fit_res.parvals[0], fit_res.parmins[0], fit_res.parmaxes[0]]\n",
    "    "
   ]
  },
  {
   "cell_type": "code",
   "execution_count": null,
   "metadata": {},
   "outputs": [],
   "source": [
    "y = poisson_noise(crossdisp.eval_model(orig_model))"
   ]
  },
  {
   "cell_type": "code",
   "execution_count": null,
   "metadata": {},
   "outputs": [],
   "source": [
    "plt.plot(xlo, y)"
   ]
  },
  {
   "cell_type": "code",
   "execution_count": null,
   "metadata": {},
   "outputs": [],
   "source": [
    "crossdisp.set_dep(y)"
   ]
  },
  {
   "cell_type": "code",
   "execution_count": null,
   "metadata": {},
   "outputs": [],
   "source": [
    "crossdisp"
   ]
  },
  {
   "cell_type": "code",
   "execution_count": null,
   "metadata": {},
   "outputs": [],
   "source": [
    "# Make an new, independent model that we can use to fit without changing the numbers in the original model\n",
    "# However, set starting values close, so that the fit has a good chance of converging.\n",
    "fgline = Gauss1D(name=\"fgline\")\n",
    "fbkg = Const1D(name=\"fbkg\")\n",
    "\n",
    "fbkg.c0 = 2.1\n",
    "fbkg.c0.min = 0\n",
    "fgline.fwhm = 3.\n",
    "fgline.ampl = 21.6\n",
    "fgline.ampl.min = 0\n",
    "fgline.pos = 0\n",
    "# Assume we know the FWHM from the CALDB and the pos because we centered the source.\n",
    "fgline.fwhm.frozen = True\n",
    "fgline.pos.frozen = True\n",
    "\n",
    "fmodel = fgline + fbkg"
   ]
  },
  {
   "cell_type": "code",
   "execution_count": null,
   "metadata": {},
   "outputs": [],
   "source": [
    "fmodel"
   ]
  },
  {
   "cell_type": "code",
   "execution_count": null,
   "metadata": {},
   "outputs": [],
   "source": [
    "f = Fit(crossdisp, fmodel, stat=Cash(), method=LevMar())"
   ]
  },
  {
   "cell_type": "code",
   "execution_count": null,
   "metadata": {},
   "outputs": [],
   "source": [
    "f.fit()"
   ]
  },
  {
   "cell_type": "code",
   "execution_count": null,
   "metadata": {},
   "outputs": [],
   "source": [
    "dplot = DataPlot()\n",
    "dplot.prepare(f.data)\n",
    "mplot = ModelPlot()\n",
    "mplot.prepare(f.data, f.model)\n",
    "dplot.plot()\n",
    "mplot.overplot()"
   ]
  },
  {
   "cell_type": "code",
   "execution_count": null,
   "metadata": {},
   "outputs": [],
   "source": []
  },
  {
   "cell_type": "code",
   "execution_count": null,
   "metadata": {},
   "outputs": [],
   "source": [
    "def bound(interval):\n",
    "    # 2 sqrt(2 ln(2)) = 2.344 which converts from FWHM to sigma for a Gaussian\n",
    "    return norm(scale=gline.fwhm.val / 2.355).interval(interval)[1]"
   ]
  },
  {
   "cell_type": "code",
   "execution_count": null,
   "metadata": {},
   "outputs": [],
   "source": [
    "bxlo=[xlo.min(), -bound(0.8), bound(0.95)]\n",
    "bxhi=[-bound(0.95), bound(0.8), xhi.max()]\n",
    "\n",
    "by = [ y[(xlo >= xl) & (xhi <= xh)].sum() for xl, xh in zip(bxlo, bxhi)]\n",
    "\n",
    "bcross = Data1DInt(name='bcross', xlo=bxlo, xhi=bxhi, y=by)"
   ]
  },
  {
   "cell_type": "code",
   "execution_count": null,
   "metadata": {},
   "outputs": [],
   "source": [
    "bxlo, bxhi"
   ]
  },
  {
   "cell_type": "code",
   "execution_count": null,
   "metadata": {},
   "outputs": [],
   "source": [
    "bf = Fit(bcross, fmodel, stat=Cash(), method=LevMar())"
   ]
  },
  {
   "cell_type": "code",
   "execution_count": null,
   "metadata": {},
   "outputs": [],
   "source": [
    "bf.fit()"
   ]
  },
  {
   "cell_type": "code",
   "execution_count": null,
   "metadata": {},
   "outputs": [],
   "source": [
    "dplot = DataPlot()\n",
    "dplot.plot_prefs['xerrorbars'] = True\n",
    "dplot.prepare(bf.data)\n",
    "mplot = ModelPlot()\n",
    "mplot.prepare(bf.data, bf.model)\n",
    "dplot.plot()\n",
    "mplot.overplot()"
   ]
  },
  {
   "cell_type": "markdown",
   "metadata": {},
   "source": [
    "## Set up a toy 2D model"
   ]
  },
  {
   "cell_type": "code",
   "execution_count": null,
   "metadata": {},
   "outputs": [],
   "source": [
    "from sherpa.astro.data import DataIMGInt"
   ]
  },
  {
   "cell_type": "code",
   "execution_count": null,
   "metadata": {},
   "outputs": [],
   "source": [
    "xrange = np.arange(21.4, 21.7, 0.05)\n",
    "yrange = np.arange(-.15, .15001, 0.01)\n",
    "\n",
    "print(len(xrange), len(yrange))\n",
    "\n",
    "x0lo, x1lo = np.meshgrid(xrange[:-1], yrange[:-1])\n",
    "x0hi, x1hi = np.meshgrid(xrange[1:], yrange[1:])\n",
    "\n",
    "x0lo = x0lo.flatten()\n",
    "x1lo = x1lo.flatten()\n",
    "x0hi = x0hi.flatten()\n",
    "x1hi = x1hi.flatten()\n",
    "\n",
    "\n",
    "gline = Gauss2D(name=\"gline\")\n",
    "bkg = Const2D(name=\"bkg\")\n",
    "\n",
    "bkg.c0 = 0\n",
    "gline.fwhm = 2\n",
    "gline.ampl = 1115\n",
    "gline.ypos = 0\n",
    "gline.ypos.frozen = True\n",
    "gline.xpos = 21.6\n",
    "gline.ellip = 0\n",
    "gline.theta = np.pi / 2\n",
    "\n",
    "orig_model = gline + bkg"
   ]
  },
  {
   "cell_type": "code",
   "execution_count": null,
   "metadata": {},
   "outputs": [],
   "source": [
    "\n",
    "image = DataIMGInt(\"binned_image\",\n",
    "                x0lo=x0lo, x1lo=x1lo,\n",
    "                    x0hi=x0hi, x1hi=x1hi,\n",
    "                    y=np.zeros_like(x0lo), \n",
    "                    shape=[len(xrange)-1, len(yrange)-1])"
   ]
  },
  {
   "cell_type": "code",
   "execution_count": null,
   "metadata": {},
   "outputs": [],
   "source": [
    "image.set_dep(poisson_noise(orig_model(x0lo=x0lo, x1lo=x1lo, x0hi=x0hi, x1hi=x1hi)))"
   ]
  },
  {
   "cell_type": "code",
   "execution_count": null,
   "metadata": {},
   "outputs": [],
   "source": [
    "image"
   ]
  },
  {
   "cell_type": "code",
   "execution_count": null,
   "metadata": {},
   "outputs": [],
   "source": []
  },
  {
   "cell_type": "code",
   "execution_count": null,
   "metadata": {},
   "outputs": [],
   "source": [
    "        >>> import numpy as np\n",
    "        >>> x = np.random.normal(size=10000, loc=21.6, scale=0.03)\n",
    "        >>> y = np.random.normal(size=10000, scale=0.03)\n",
    "        >>> xrange = np.arange(21.4, 21.7, 0.01)\n",
    "        >>> yrange = np.arange(-.25, .250001, 0.01)\n",
    "        >>> hist, x0edges, x1edges = np.histogram2d(x, y, bins=(xrange, yrange))\n",
    "        >>> x0lo, x1lo = np.meshgrid(x0edges[:-1], x1edges[:-1])\n",
    "        >>> x0hi, x1hi = np.meshgrid(x0edges[1:], x1edges[1:])\n",
    "        >>> image = DataIMGInt(\"binned_image\",\n",
    "        ...                    x0lo=x0lo.flatten(), x1lo=x1lo.flatten(),\n",
    "        ...                    x0hi=x0hi.flatten(), x1hi=x1hi.flatten(),\n",
    "        ...                    y=hist.flatten(), shape=hist.shape)"
   ]
  },
  {
   "cell_type": "code",
   "execution_count": null,
   "metadata": {},
   "outputs": [],
   "source": [
    "print(len(xrange), len(yrange))"
   ]
  },
  {
   "cell_type": "code",
   "execution_count": null,
   "metadata": {},
   "outputs": [],
   "source": [
    "image"
   ]
  },
  {
   "cell_type": "code",
   "execution_count": null,
   "metadata": {},
   "outputs": [],
   "source": [
    "f2d = Fit(data=image, model=orig_model, stat=Cash(), method=MonCar())"
   ]
  },
  {
   "cell_type": "code",
   "execution_count": null,
   "metadata": {},
   "outputs": [],
   "source": [
    "# Tuen te parameters until I'm close, because I'm guessing te coordinate system here\n",
    "bkg.c0 = 0\n",
    "bkg.c0.freeze()\n",
    "gline.fwhm = .05\n",
    "gline.fwhm.freeze()\n",
    "gline.ampl = 115\n",
    "gline.ypos = 21.55\n",
    "gline.ypos.frozen = False\n",
    "gline.xpos = 0.1\n",
    "gline.xpos.frozen = False\n",
    "gline.ellip = 0\n",
    "gline.theta = 0\n"
   ]
  },
  {
   "cell_type": "code",
   "execution_count": null,
   "metadata": {},
   "outputs": [],
   "source": [
    "f2d.fit()"
   ]
  },
  {
   "cell_type": "code",
   "execution_count": null,
   "metadata": {},
   "outputs": [],
   "source": [
    "f2d.model"
   ]
  },
  {
   "cell_type": "code",
   "execution_count": null,
   "metadata": {},
   "outputs": [],
   "source": [
    "plt.imshow(gline(x0lo=image.x0lo, x1lo=image.x1lo, \n",
    "                 x0hi=image.x0hi, x1hi=image.x1hi).reshape(50, 30).T)"
   ]
  },
  {
   "cell_type": "code",
   "execution_count": null,
   "metadata": {},
   "outputs": [],
   "source": [
    "plt.imshow(hist)"
   ]
  },
  {
   "cell_type": "code",
   "execution_count": null,
   "metadata": {},
   "outputs": [],
   "source": [
    "out = image.get_img(orig_model)"
   ]
  },
  {
   "cell_type": "code",
   "execution_count": null,
   "metadata": {},
   "outputs": [],
   "source": [
    "plt.imshow(out[0])"
   ]
  },
  {
   "cell_type": "code",
   "execution_count": null,
   "metadata": {},
   "outputs": [],
   "source": [
    "plt.imshow(out[1])"
   ]
  },
  {
   "cell_type": "code",
   "execution_count": null,
   "metadata": {},
   "outputs": [],
   "source": []
  },
  {
   "cell_type": "markdown",
   "metadata": {},
   "source": [
    "## This is the part that I used for the proposal\n",
    "\n",
    "So, it seems I have to make an example that is square, place the signal in the middle, and make the Gaussian round, not elliptical. Fortunately, with just one spectral line, I can always do this rescaling without loss of generality. When I make plots for the proposal, I can still rescale image axes using the xlim, aspect and extend to make it look closer to the original XMM situation.  "
   ]
  },
  {
   "cell_type": "code",
   "execution_count": null,
   "metadata": {},
   "outputs": [],
   "source": [
    "from sherpa.models import NormGauss1D, NormGauss2D\n",
    "\n",
    "from sherpa.data import DataSimulFit\n",
    "from sherpa.models.model import SimulFitModel"
   ]
  },
  {
   "cell_type": "code",
   "execution_count": null,
   "metadata": {},
   "outputs": [],
   "source": [
    "bkg = Const2D(name=\"bkg\")\n",
    "gline = NormGauss2D(name=\"gline\")\n",
    "gline.fwhm = 2.355\n",
    "gline.fwhm.freeze()\n",
    "gline.xpos = 0  # Freeze one dimension at correct position, this represents the cross-dispersion direction\n",
    "gline.xpos.frozen = True\n",
    "\n",
    "fit_model = bkg + gline"
   ]
  },
  {
   "cell_type": "code",
   "execution_count": null,
   "metadata": {},
   "outputs": [],
   "source": [
    "x0 = np.random.normal(size=10000)\n",
    "x1 = np.random.normal(size=10000)\n",
    "hist, x0edges, x1edges = np.histogram2d(x0, x1, bins=(x0range, x1range))\n"
   ]
  },
  {
   "cell_type": "code",
   "execution_count": null,
   "metadata": {},
   "outputs": [],
   "source": [
    "x0range = np.arange(-5, 5.001, 0.5)\n",
    "x1range = np.arange(-5, 5.001, 0.5)\n",
    "x0lo, x1lo = np.meshgrid(x0edges[:-1], x1edges[:-1])\n",
    "x0hi, x1hi = np.meshgrid(x0edges[1:], x1edges[1:])"
   ]
  },
  {
   "cell_type": "code",
   "execution_count": null,
   "metadata": {},
   "outputs": [],
   "source": [
    "def simulate_photons(n_line, n_bkg):\n",
    "    lx0 = np.random.normal(size=n_line, loc=0)\n",
    "    lx1 = np.random.normal(size=n_line, loc=0)\n",
    "    bx0 = np.random.uniform(size=n_bkg, low=-5, high=5)\n",
    "    bx1 = np.random.uniform(size=n_bkg, low=-5, high=5)\n",
    "    hist, x0edges, x1edges = np.histogram2d(np.hstack([lx0, bx0]), \n",
    "                                            np.hstack([lx1, bx1]), \n",
    "                                            bins=(x0range, x1range))\n",
    "    return hist"
   ]
  },
  {
   "cell_type": "code",
   "execution_count": null,
   "metadata": {},
   "outputs": [],
   "source": [
    "image = DataIMGInt(\n",
    "    \"binned_image\",\n",
    "    x0lo=x0lo.flatten(),\n",
    "    x1lo=x1lo.flatten(),\n",
    "    x0hi=x0hi.flatten(),\n",
    "    x1hi=x1hi.flatten(),\n",
    "    y=hist.flatten(),\n",
    "    shape=hist.shape,\n",
    ")"
   ]
  },
  {
   "cell_type": "code",
   "execution_count": null,
   "metadata": {},
   "outputs": [],
   "source": [
    "# Tunr te parameters until I'm close, because I'm guessing te coordinate system here\n",
    "bkg.c0 = 0\n",
    "#bkg.c0.freeze()\n",
    "\n",
    "gline.ampl = 115\n",
    "gline.ypos = 0.2 # start a bit off so I see that the fit actually did something\n"
   ]
  },
  {
   "cell_type": "code",
   "execution_count": null,
   "metadata": {},
   "outputs": [],
   "source": [
    "f2d = Fit(data=image, model=fit_model, stat=Cash(), method=LevMar())"
   ]
  },
  {
   "cell_type": "code",
   "execution_count": null,
   "metadata": {},
   "outputs": [],
   "source": [
    "fit_model"
   ]
  },
  {
   "cell_type": "code",
   "execution_count": null,
   "metadata": {},
   "outputs": [],
   "source": [
    "spec1d = hist[8:12, :].sum(axis=0)\n",
    "backg1d = hist[:5, :].sum(axis=0) + hist[15:, :].sum(axis=0)\n",
    "\n",
    "dspec1d = Data1DInt(name=\"spec1d\", xlo=x0range[:-1], xhi=x0range[1:], y=spec1d)\n",
    "dbkg1d = Data1DInt(name=\"bkg1d\", xlo=x0range[:-1], xhi=x0range[1:], y=backg1d)\n",
    "\n",
    "bkg1d = Const1D(name=\"bkg1d\")\n",
    "gline1d = NormGauss1D(name=\"gline1d\")\n",
    "gline1d.fwhm = 2.355\n",
    "gline1d.fwhm.freeze()\n",
    "\n",
    "\n",
    "d1d = DataSimulFit('bothdata', (dspec1d, dbkg1d))\n",
    "m1d = SimulFitModel('bothmodels', (bkg1d + gline1d, bkg1d))\n",
    "\n"
   ]
  },
  {
   "cell_type": "code",
   "execution_count": null,
   "metadata": {},
   "outputs": [],
   "source": [
    "f1d = Fit(d1d, m1d, stat=Cash(), method=LevMar())"
   ]
  },
  {
   "cell_type": "code",
   "execution_count": null,
   "metadata": {},
   "outputs": [],
   "source": [
    "hist  = simulate_photons(20, 40)"
   ]
  },
  {
   "cell_type": "code",
   "execution_count": null,
   "metadata": {},
   "outputs": [],
   "source": [
    "from mpl_toolkits.axes_grid1 import make_axes_locatable\n",
    "\n",
    "fig, ax = plt.subplots(figsize=(5, 4))\n",
    "ax.imshow(\n",
    "    hist,\n",
    "    origin=\"lower\",\n",
    "    cmap=\"hot_r\",\n",
    "    # uneven number here to account for bin width, need start-end of bin\n",
    "    # nor middle, also git steps-post, need to match\n",
    "    # For this prototype, I just fiddled by hand until it looked right\n",
    "    extent=[21.4, 21.8245, -55, 49],\n",
    "    aspect=\"auto\",\n",
    "    # interpolation=\"gaussian\",\n",
    ")\n",
    "\n",
    "ax.axhspan(-12, 8, color=\"blue\", alpha=0.3)\n",
    "ax.axhspan(-55, -27, color=\"0.3\", alpha=0.3)\n",
    "ax.axhspan(25, 50, color=\"0.3\", alpha=0.3)\n",
    "\n",
    "ax.set_xlabel(\"Wavelength (Ang)\")\n",
    "ax.set_ylabel(\"Cross-dispersion (arcsec)\")\n",
    "\n",
    "# create new axes on the right and on the top of the current axes\n",
    "divider = make_axes_locatable(ax)\n",
    "# below height and pad are in inches\n",
    "ax_histy = divider.append_axes(\"right\", 0.5, pad=0.1, sharey=ax)\n",
    "# make some labels invisible\n",
    "ax_histy.yaxis.set_tick_params(labelleft=False)\n",
    "\n",
    "# Sum up to -6, because we set the xlim below\n",
    "# that wat the count shown in the image and the counts in the histogram match\n",
    "out = ax_histy.plot(\n",
    "    hist[:, :-6].sum(axis=1), np.linspace(-50, 50, 20), drawstyle=\"steps-post\"\n",
    ")\n",
    "ax_histy.set_xlabel(\"Counts\")\n",
    "\n",
    "\n",
    "ax_histx = divider.append_axes(\"top\", 0.5, pad=0.1, sharex=ax)\n",
    "# make some labels invisible\n",
    "ax_histx.xaxis.set_tick_params(labelbottom=False)\n",
    "\n",
    "out = ax_histx.plot(\n",
    "    np.linspace(21.4, 21.8, 20), hist.sum(axis=0), drawstyle=\"steps-post\"\n",
    ")\n",
    "ax_histx.set_ylabel(\"Counts\")\n",
    "\n",
    "ax.set_xlim(21.4, 21.69)\n",
    "fig.savefig(\"../ADAP_proposal/dummy2dimage.pdf\", dpi=300, bbox_inches=\"tight\")"
   ]
  },
  {
   "cell_type": "code",
   "execution_count": null,
   "metadata": {},
   "outputs": [],
   "source": [
    "fit2dres = np.zeros((1000, 9))\n",
    "fit1dres = np.zeros((1000, 9))\n",
    "\n",
    "for i in range(fit2dres.shape[0]):\n",
    "    hist = simulate_photons(20, 40)\n",
    "    image.set_dep(hist.flatten())\n",
    "\n",
    "    # Reset to the starting values\n",
    "    gline.ampl = 15\n",
    "    gline.ypos = 0.2  # start a bit off so I see that the fit actually did something\n",
    "\n",
    "    f2d.fit()\n",
    "    fit_res = f2d.est_errors()\n",
    "    for j, p in enumerate(fit_res.parnames):\n",
    "        fit2dres[i, j * 3 : j * 3 + 3] = [\n",
    "            fit_res.parvals[j],\n",
    "            fit_res.parmins[j],\n",
    "            fit_res.parmaxes[j],\n",
    "        ]\n",
    "\n",
    "    # Use the same simulated data for a 1d fit\n",
    "    spec1d = hist[8:12, :].sum(axis=0)\n",
    "    f1d.data.datasets[0].set_dep(spec1d)\n",
    "    bkg1d = hist[:5, :].sum(axis=0) + hist[15:, :].sum(axis=0)\n",
    "    f1d.data.datasets[1].set_dep(bkg1d)\n",
    "\n",
    "    # reset starting values\n",
    "    gline1d.ampl = 15\n",
    "    gline1d.pos = 0.1\n",
    "    f1d.fit()\n",
    "    fit_res = f1d.est_errors()\n",
    "    for j, p in enumerate(fit_res.parnames):\n",
    "        fit1dres[i, j * 3 : j * 3 + 3] = [\n",
    "            fit_res.parvals[j],\n",
    "            fit_res.parmins[j],\n",
    "            fit_res.parmaxes[j],\n",
    "        ]"
   ]
  },
  {
   "cell_type": "code",
   "execution_count": null,
   "metadata": {},
   "outputs": [],
   "source": [
    "fig, axes = plt.subplots(nrows=1, ncols=2)\n",
    "\n",
    "axes[0].violinplot([fit2dres[:, 6], fit1dres[:, 6] / 0.68], showmeans=True)\n",
    "\n",
    "# WE simulate a range of 10, whic hsi map to wave=21.4-21.8\n",
    "axes[1].violinplot(\n",
    "    [fit2dres[:, 3] / 10 * 0.4, fit1dres[:, 3] / 10 * 0.4], showmeans=True\n",
    ")\n",
    "\n",
    "for ax in axes:\n",
    "    ax.yaxis.grid(True)\n",
    "    ax.set_xticks([y + 1 for y in range(2)], labels=[\"2D fit\", \"1D fit\"])\n",
    "axes[0].set_ylabel(\"Number of photons\")\n",
    "axes[1].set_ylabel(\"position error (Ang)\")\n",
    "\n",
    "axes[0].axhspan(19.8, 20.2, color=\"k\")\n",
    "axes[1].axhspan(-0.0005, 0.0005, color=\"k\")\n",
    "axes[0].set_title('Flux')\n",
    "axes[1].set_title('Position error')\n",
    "\n",
    "fig.subplots_adjust(wspace=0.4)\n",
    "\n",
    "fig.savefig(\"../ADAP_proposal/dummy2vilin.pdf\", dpi=300, bbox_inches=\"tight\")"
   ]
  },
  {
   "cell_type": "code",
   "execution_count": null,
   "metadata": {},
   "outputs": [],
   "source": [
    "fig, axes = plt.subplots(nrows=1, ncols=2)\n",
    "\n",
    "axes[0].violinplot([fit2dres[:, 6], fit1dres[:, 6] / 0.68], showmeans=True)\n",
    "\n",
    "axes[1].violinplot(\n",
    "    [fit2dres[:500, 6] / fit2dres[500:, 6], \n",
    "     fit1dres[:500, 6] / fit1dres[500:, 6]],\n",
    "    showmeans=True,\n",
    ")\n",
    "\n",
    "for ax in axes:\n",
    "    ax.yaxis.grid(True)\n",
    "    ax.set_xticks([y + 1 for y in range(2)], labels=[\"2D fit\", \"1D fit\"])\n",
    "axes[0].set_ylabel(\"Number of photons\")\n",
    "axes[1].set_ylabel(\"Line ratio\")\n",
    "\n",
    "axes[0].axhspan(19.8, 20.2, color=\"k\")\n",
    "axes[1].axhspan(0.99, 1.01, color=\"k\")\n",
    "axes[0].set_title(\"Line flux\")\n",
    "axes[1].set_title(\"Ratio of two lines\")\n",
    "\n",
    "fig.subplots_adjust(wspace=0.4)\n",
    "\n",
    "#fig.savefig(\"../ADAP_proposal/dummy2vilin.pdf\", dpi=300, bbox_inches=\"tight\")"
   ]
  },
  {
   "cell_type": "code",
   "execution_count": null,
   "metadata": {},
   "outputs": [],
   "source": [
    "from scipy.stats import norm"
   ]
  },
  {
   "cell_type": "code",
   "execution_count": null,
   "metadata": {},
   "outputs": [],
   "source": [
    "norm.ppf(0.75)"
   ]
  },
  {
   "cell_type": "code",
   "execution_count": null,
   "metadata": {},
   "outputs": [],
   "source": [
    "FWHM = 2.355 sigma"
   ]
  },
  {
   "cell_type": "code",
   "execution_count": null,
   "metadata": {},
   "outputs": [],
   "source": [
    "2.355 / (norm.ppf(0.75) * 2)"
   ]
  },
  {
   "cell_type": "code",
   "execution_count": null,
   "metadata": {},
   "outputs": [],
   "source": []
  }
 ],
 "metadata": {
  "kernelspec": {
   "display_name": "ciao-4.16",
   "language": "python",
   "name": "python3"
  },
  "language_info": {
   "codemirror_mode": {
    "name": "ipython",
    "version": 3
   },
   "file_extension": ".py",
   "mimetype": "text/x-python",
   "name": "python",
   "nbconvert_exporter": "python",
   "pygments_lexer": "ipython3",
   "version": "3.11.6"
  }
 },
 "nbformat": 4,
 "nbformat_minor": 2
}
