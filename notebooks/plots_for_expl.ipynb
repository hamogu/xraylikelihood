{
 "cells": [
  {
   "cell_type": "code",
   "execution_count": null,
   "metadata": {},
   "outputs": [],
   "source": [
    "import glob\n",
    "import os\n",
    "import numpy as np\n",
    "import matplotlib.pyplot as plt\n",
    "\n",
    "from astropy.io import fits\n",
    "from astropy.table import Table\n",
    "from astropy.convolution import Gaussian2DKernel, convolve\n",
    "from astropy.visualization import simple_norm\n",
    "from astropy import units as u\n",
    "\n",
    "from sherpa.astro.io import read_arf, read_rmf\n",
    "from sherpa.astro import ui\n",
    "\n",
    "from astropy.visualization import quantity_support\n",
    "\n",
    "quantity_support()"
   ]
  },
  {
   "cell_type": "code",
   "execution_count": null,
   "metadata": {},
   "outputs": [],
   "source": [
    "# Function to plot RGS plots\n",
    "def plotRGS(plt, fileName, rgsfile, srcfile, source):\n",
    "    hdu = fits.open(fileName)\n",
    "    hdr = hdu[1].header\n",
    "    ev = Table(hdu[1].data)\n",
    "\n",
    "    plt.subplot(2, 1, 1)\n",
    "\n",
    "    img = plt.hist2d(\n",
    "        ev[\"M_LAMBDA\"], ev[\"PI\"], [360, 250], cmap=\"Oranges\", vmin=0, vmax=5\n",
    "    )\n",
    "    hdu.close()\n",
    "\n",
    "    hdu = fits.open(srcfile)\n",
    "    inst = hdr[\"INSTRUME\"].strip()\n",
    "    reg = Table(hdu[inst + \"_SRC\" + str(source) + \"_ORDER_1\"].data)\n",
    "    nreg = len(reg)\n",
    "\n",
    "    for i in range(nreg):\n",
    "        rr = reg[i]\n",
    "        ii = np.nonzero(rr[\"LAMBDA\"])\n",
    "        if rr[\"SHAPE\"][0] == \"!\":\n",
    "            linest = \":r\"\n",
    "        else:\n",
    "            linest = \"-b\"\n",
    "        plt.plot(rr[\"LAMBDA\"][ii], rr[\"PI\"][ii], linest)\n",
    "\n",
    "    plt.title(os.path.basename(fileName))\n",
    "    plt.xlabel(\"Wavelength (A)\")\n",
    "    plt.ylabel(\"PI (eV)\")\n",
    "\n",
    "    hdu.close()\n",
    "\n",
    "    plt.subplot(2, 1, 2)\n",
    "\n",
    "    hdus = fits.open(rgsfile)\n",
    "    r1 = Table(hdus[1].data)\n",
    "    xdsp = np.degrees(r1[\"XDSP_CORR\"]) * 3600.0\n",
    "    plt.rcParams[\"figure.figsize\"] = (12, 6)\n",
    "    img, xe, ye = np.histogram2d(xdsp, r1[\"M_LAMBDA\"], [250, 250])\n",
    "\n",
    "    kernel = np.array(\n",
    "        [[1, 1, 1], [1.0, 3.0, 1.0], [1.0, 9, 1.0], [1.0, 3.0, 1.0], [1.0, 1, 1.0]]\n",
    "    )\n",
    "    kernel = kernel / np.sum(kernel)\n",
    "    imgs = convolve(img, kernel)\n",
    "\n",
    "    plt.imshow(\n",
    "        imgs,\n",
    "        origin=\"lower\",\n",
    "        vmin=0,\n",
    "        vmax=1.5,\n",
    "        cmap=\"rainbow\",\n",
    "        extent=[ye[0], ye[-1], xe[0], xe[-1]],\n",
    "        aspect=\"auto\",\n",
    "    )\n",
    "\n",
    "    hdus.close()\n",
    "\n",
    "    hdul = fits.open(srcfile)\n",
    "    src = Table(hdul[\"SRCLIST\"].data)\n",
    "    dd = src[\"DELTA_XDSP\"] * (-60)\n",
    "    reg = Table(hdul[\"RGS1_SRC\" + str(source) + \"_SPATIAL\"].data)\n",
    "    nreg = len(reg)\n",
    "\n",
    "    for i in range(nreg):\n",
    "        rr = reg[i]\n",
    "        ii = np.nonzero(rr[\"LAMBDA\"])\n",
    "        plt.plot(rr[\"LAMBDA\"][ii], np.degrees(rr[\"XDSP_CORR\"][ii]) * 3600, \"r\")\n",
    "    reg = Table(hdul[\"RGS1_BACKGROUND\"].data)\n",
    "    nreg = len(reg)\n",
    "\n",
    "    for i in range(nreg):\n",
    "        rr = reg[i]\n",
    "        ii = np.nonzero(rr[\"LAMBDA\"])\n",
    "        if rr[\"SHAPE\"][0] != \"!\":\n",
    "            linest = \"-g\"\n",
    "        else:\n",
    "            linest = \"--y\"\n",
    "        plt.plot(\n",
    "            rr[\"LAMBDA\"][ii],\n",
    "            np.degrees(rr[\"XDSP_CORR\"][ii]) * 3600,\n",
    "            linest,\n",
    "            clip_on=True,\n",
    "        )\n",
    "\n",
    "    plt.xlabel(\"Wavelength\")\n",
    "    plt.ylabel(\"Cross-dispersion (arcsec)\")\n",
    "    plt.xlim([6.0, 32.0])\n",
    "\n",
    "    hdul.close()"
   ]
  },
  {
   "cell_type": "code",
   "execution_count": null,
   "metadata": {},
   "outputs": [],
   "source": [
    "def get_file_names(dir, inst=\"R1\"):\n",
    "    \"\"\"\n",
    "    Assuming that there is only one exposure and thus exactly one file with this pattern\n",
    "    \"\"\"\n",
    "    evt_list = glob.glob(os.path.join(dir, f\"*{inst}*EVENLI0000.FIT\"))\n",
    "    src_list = glob.glob(os.path.join(dir, f\"*{inst}*SRCLI_0000.FIT\"))\n",
    "    mer_list = glob.glob(os.path.join(dir, f\"*{inst}*merged0000.FIT\"))\n",
    "    return evt_list[0], src_list[0], mer_list[0]"
   ]
  },
  {
   "cell_type": "code",
   "execution_count": null,
   "metadata": {},
   "outputs": [],
   "source": [
    "datadir = '../data'"
   ]
  },
  {
   "cell_type": "code",
   "execution_count": null,
   "metadata": {},
   "outputs": [],
   "source": [
    "evt_list, src_list, mer_list = get_file_names(datadir, \"R1\")"
   ]
  },
  {
   "cell_type": "code",
   "execution_count": null,
   "metadata": {},
   "outputs": [],
   "source": [
    "evt_list, src_list, mer_list"
   ]
  },
  {
   "cell_type": "code",
   "execution_count": null,
   "metadata": {},
   "outputs": [],
   "source": [
    "# Inspect plots\n",
    "\n",
    "plt.figure(figsize=(20, 18))  # Size of figure\n",
    "\n",
    "source = 1  # if user has defined the coordinate (1: default ; 3: user defined)\n",
    "plotRGS(plt, evt_list, '../data/RGS1.fits', src_list, source)  # Plot RGS plots\n",
    "\n",
    "plt.legend()"
   ]
  },
  {
   "cell_type": "code",
   "execution_count": null,
   "metadata": {},
   "outputs": [],
   "source": [
    "rgsfile = \"../data/RGS1.fits\"\n",
    "src_list = \"../data/psf_66/P0502370201R1S001SRCLI_0000.FIT\""
   ]
  },
  {
   "cell_type": "code",
   "execution_count": null,
   "metadata": {},
   "outputs": [],
   "source": [
    "hdulist = fits.open(evt_list)"
   ]
  },
  {
   "cell_type": "code",
   "execution_count": null,
   "metadata": {},
   "outputs": [],
   "source": [
    "ev = Table.read(evt_list, hdu=1)\n",
    "ev_after_osip = Table.read(rgsfile, hdu=1)\n",
    "\n",
    "inst = ev.meta[\"INSTRUME\"]\n",
    "\n",
    "src = Table.read(src_list, hdu=\"SRCLIST\")\n",
    "reg_energy = Table.read(src_list, hdu=f\"{inst}_SRC{source}_ORDER_1\")\n",
    "reg_spatial = Table.read(src_list, hdu=f\"{inst}_SRC{source}_SPATIAL\")\n",
    "reg_spatial[\"XDSP_CORR\"].unit = u.rad\n",
    "reg_spatial_bkg = Table.read(src_list, hdu=f\"{inst}_BACKGROUND\")\n",
    "reg_spatial_bkg[\"XDSP_CORR\"].unit = u.rad"
   ]
  },
  {
   "cell_type": "code",
   "execution_count": null,
   "metadata": {},
   "outputs": [],
   "source": [
    "from mpl_toolkits.axes_grid1 import make_axes_locatable\n",
    "\n",
    "img, xe, ye = np.histogram2d(\n",
    "    ev_after_osip[\"XDSP_CORR\"].to(u.arcsec), ev_after_osip[\"M_LAMBDA\"], [250, 250]\n",
    ")\n",
    "\n",
    "fig, ax = plt.subplots(figsize=(5, 4))\n",
    "im = ax.imshow(\n",
    "    img,\n",
    "    origin=\"lower\",\n",
    "    vmin=0,\n",
    "    vmax=3,\n",
    "    cmap=\"afmhot_r\",\n",
    "    extent=[ye[0], ye[-1], xe[0], xe[-1]],\n",
    "    aspect=\"auto\",\n",
    "    interpolation=\"nearest\",\n",
    ")\n",
    "\n",
    "ii = np.nonzero(reg_spatial[\"LAMBDA\"])\n",
    "ax.plot(\n",
    "    reg_spatial[\"LAMBDA\"][ii],\n",
    "    (reg_spatial[\"XDSP_CORR\"][ii]).to(u.arcsec),\n",
    "    color=\"b\",\n",
    "    lw=3,\n",
    ")\n",
    "\n",
    "\n",
    "for reg in reg_spatial_bkg:\n",
    "    if reg[\"SHAPE\"][0] != \"!\":\n",
    "        continue\n",
    "    for ii in (slice(0, 5), slice(5, 10)):\n",
    "        ax.plot(\n",
    "            reg[\"LAMBDA\"][ii],\n",
    "            (reg[\"XDSP_CORR\"][ii] * reg_spatial_bkg[\"XDSP_CORR\"].unit).to(u.arcsec),\n",
    "            color=\"k\",\n",
    "            lw=3,\n",
    "        )\n",
    "\n",
    "ax.set_xlim(13.6, 24.8)\n",
    "ax.set_xlabel(\"Wavelength (Ang)\")\n",
    "ax.set_ylabel(\"Cross-dispersion (arcsec)\")\n",
    "\n",
    "# create new axes on the right and on the top of the current axes\n",
    "divider = make_axes_locatable(ax)\n",
    "# below height and pad are in inches\n",
    "ax_histy = divider.append_axes(\"right\", 0.5, pad=0.1, sharey=ax)\n",
    "# make some labels invisible\n",
    "ax_histy.yaxis.set_tick_params(labelleft=False)\n",
    "\n",
    "ind = np.where((ev_after_osip[\"M_LAMBDA\"] > 13.6) & (ev_after_osip[\"M_LAMBDA\"] < 24.8))\n",
    "y = ev_after_osip[\"XDSP_CORR\"].to(u.arcsec)\n",
    "out = ax_histy.hist(y, bins=50, orientation=\"horizontal\")\n",
    "ax_histy.set_xlabel(\"Counts\")\n",
    "\n",
    "ax_cbar = divider.append_axes(\"top\", 0.1, pad=0.3)\n",
    "plt.colorbar(im, cax=ax_cbar, orientation=\"horizontal\", extend=\"max\")\n",
    "ax_cbar.set_title(\"counts/bin\")\n",
    "\n",
    "fig.savefig(\"../ADAP_proposal/rgs1_xdisp.pdf\", dpi=300, bbox_inches=\"tight\")"
   ]
  },
  {
   "cell_type": "code",
   "execution_count": null,
   "metadata": {},
   "outputs": [],
   "source": [
    "img, xe, ye = np.histogram2d(\n",
    "    ev[\"PI\"], ev[\"M_LAMBDA\"], [250, 250]\n",
    ")\n",
    "\n",
    "fig, ax = plt.subplots(figsize=(5, 4))\n",
    "im = ax.imshow(\n",
    "    img,\n",
    "    origin=\"lower\",\n",
    "    vmin=0,\n",
    "    vmax=20,\n",
    "    cmap=\"afmhot_r\",\n",
    "    extent=[ye[0], ye[-1], xe[0], xe[-1]],\n",
    "    aspect=\"auto\",\n",
    "    interpolation=\"nearest\",\n",
    ")\n",
    "\n",
    "for rr in reg_energy:\n",
    "        ii = np.nonzero(rr[\"LAMBDA\"])\n",
    "        if rr[\"SHAPE\"][0] == \"!\":\n",
    "            linest = \"-g\"\n",
    "        else:\n",
    "            linest = \"-b\"\n",
    "        ax.plot(rr[\"LAMBDA\"][ii], rr[\"PI\"][ii], linest)\n",
    "\n",
    "ax.set_xlim(13.6, 24.8)\n",
    "ax.set_ylim(0, 2500)\n",
    "ax.set_xlabel(\"Wavelength (Ang)\")\n",
    "ax.set_ylabel(\"Energy measured by CCD (eV)\")\n",
    "\n",
    "# create new axes on the right and on the top of the current axes\n",
    "divider = make_axes_locatable(ax)\n",
    "\n",
    "\n",
    "ax_cbar = divider.append_axes(\"top\", 0.1, pad=0.3)\n",
    "plt.colorbar(im, cax=ax_cbar, orientation=\"horizontal\", extend='max')\n",
    "ax_cbar.set_title(\"counts/bin\")\n",
    "\n",
    "fig.savefig(\"../ADAP_proposal/rgs1_pi.pdf\", dpi=300, bbox_inches=\"tight\")"
   ]
  },
  {
   "cell_type": "code",
   "execution_count": null,
   "metadata": {},
   "outputs": [],
   "source": [
    "bkg_rate = Table.read(\"../data/RGS1_FlareBKGRate.fit\")"
   ]
  },
  {
   "cell_type": "code",
   "execution_count": null,
   "metadata": {},
   "outputs": [],
   "source": [
    "# Function to plot Lightcurve\n",
    "fig = plt.figure(figsize=(5, 4))\n",
    "ax = fig.add_subplot(111)\n",
    "times = (bkg_rate[\"TIME\"] - bkg_rate[\"TIME\"][0]) / 1e3\n",
    "ax.plot(times, bkg_rate[\"RATE\"])\n",
    "ax.set_xlabel(\"Time (ks)\")\n",
    "ax.set_ylabel(\"Cts/s\")\n",
    "\n",
    "ax.plot(times, 0.1 * np.ones_like(times), \"r--\")\n",
    "ax.fill_between(times, 2.5, where=bkg_rate[\"RATE\"] > 0.1, facecolor=\"gray\", alpha=0.5)\n",
    "ax.set_ylim(0, 2.1)\n",
    "ax.set_xlim(0, None)\n",
    "\n",
    "fig.savefig(\"../ADAP_proposal/rgs1_bkg.pdf\", dpi=300, bbox_inches=\"tight\")"
   ]
  },
  {
   "cell_type": "code",
   "execution_count": null,
   "metadata": {},
   "outputs": [],
   "source": []
  },
  {
   "cell_type": "code",
   "execution_count": null,
   "metadata": {},
   "outputs": [],
   "source": []
  },
  {
   "cell_type": "markdown",
   "metadata": {},
   "source": [
    "## RMF and fitting"
   ]
  },
  {
   "cell_type": "code",
   "execution_count": null,
   "metadata": {},
   "outputs": [],
   "source": [
    "rmf = read_rmf(\"../data/default/P0502370201R1S001RSPMAT1001.FIT\")"
   ]
  },
  {
   "cell_type": "code",
   "execution_count": null,
   "metadata": {},
   "outputs": [],
   "source": [
    "type(rmf)"
   ]
  },
  {
   "cell_type": "code",
   "execution_count": null,
   "metadata": {},
   "outputs": [],
   "source": [
    "rmf.offset"
   ]
  },
  {
   "cell_type": "code",
   "execution_count": null,
   "metadata": {},
   "outputs": [],
   "source": [
    "rmf.n_grp.shape"
   ]
  },
  {
   "cell_type": "code",
   "execution_count": null,
   "metadata": {},
   "outputs": [],
   "source": [
    "        self.energ_lo = energ_lo\n",
    "        self.energ_hi = energ_hi\n",
    "        self.offset = offset\n",
    "        self.detchans = detchans\n",
    "        self.e_min = e_min\n",
    "        self.e_max = e_max\n",
    "        self.header = {} if header is None else header\n",
    "        self.n_grp = n_grp\n",
    "        self.f_chan = f_chan\n",
    "        self.n_chan = n_chan\n",
    "        self.matrix = matrix"
   ]
  },
  {
   "cell_type": "code",
   "execution_count": null,
   "metadata": {},
   "outputs": [],
   "source": [
    "\tNgrp, a 2-byte INTEGER scalar for each row containing the number of 'channel subsets' for the energy bin (see below).\n",
    "The FITS column name is N_GRP (unitless).\n",
    "Fchan, a fixed- or variable-length 2-byte or 4-byte INTEGER array for each row. Contains the channel number of the start of each \"channel subset\" for the energy bin.\n",
    "The FITS column name is F_CHAN (unitless).\n",
    "Nchan, a fixed- or variable-length 2-byte or 4-byte INTEGER vector for each row. Contains the number of channels within each \"channel subset\" for the energy bin.\n",
    "The FITS column name is N_CHAN (unitless).\n",
    "Mat, a (fixed- or variable-length) REAL array. Each element Mat is 4-byte REAL number containing all the response probability values for each 'channel subset' corresponding to the energy bin for a given row.\n",
    "The FITS column name is MATRIX (unitless). "
   ]
  },
  {
   "cell_type": "code",
   "execution_count": null,
   "metadata": {},
   "outputs": [],
   "source": [
    "# Sherpa stores f_chan, n_chan, etc. flattened only the non-zero values\n",
    "\n",
    "# ignoring rmf.offset for now because it's only 1. \n",
    "\n",
    "# find max channel\n",
    "max_channel = 0\n",
    "\n",
    "ind = 0\n",
    "for i, n_grp in enumerate(rmf.n_grp):\n",
    "    for n in range(n_grp):\n",
    "        max_channel = max(max_channel, rmf.f_chan[ind] + rmf.n_chan[ind])\n",
    "        ind = ind + 1\n",
    "\n",
    "mat = np.zeros(shape=(len(rmf.n_grp), max_channel))\n",
    "ind = 0\n",
    "ind_mat = 0\n",
    "# Step though all rows\n",
    "for i, n_grp in enumerate(rmf.n_grp):\n",
    "    # and through every group in each row\n",
    "    # to build up the matrix\n",
    "    for n in range(n_grp):\n",
    "        mat[i, rmf.f_chan[ind] : rmf.f_chan[ind] + rmf.n_chan[ind]] = rmf.matrix[\n",
    "            ind_mat : ind_mat + rmf.n_chan[ind]\n",
    "        ]\n",
    "        ind_mat = ind_mat + rmf.n_chan[ind]\n",
    "        ind = ind + 1"
   ]
  },
  {
   "cell_type": "code",
   "execution_count": null,
   "metadata": {},
   "outputs": [],
   "source": [
    "# Just see distribution of non-zero values to help choose scaling for next plot\n",
    "matflat = mat.flatten()\n",
    "plt.hist(matflat[matflat > 0], bins=1000)\n",
    "plt.yscale(\"log\")"
   ]
  },
  {
   "cell_type": "code",
   "execution_count": null,
   "metadata": {},
   "outputs": [],
   "source": [
    "mat.shape"
   ]
  },
  {
   "cell_type": "code",
   "execution_count": null,
   "metadata": {},
   "outputs": [],
   "source": [
    "norm = simple_norm(mat, \"log\", max_percent=99)\n",
    "\n",
    "fig = plt.figure(figsize=(6, 5))\n",
    "ax = fig.add_subplot(1, 1, 1)\n",
    "im = ax.imshow(\n",
    "    mat,\n",
    "    origin=\"lower\",\n",
    "    cmap=\"afmhot_r\",\n",
    "    norm=norm,\n",
    "    extent=(\n",
    "        0,\n",
    "        max_channel,\n",
    "        (rmf.energ_lo[0] * u.keV).to(u.Angstrom, equivalencies=u.spectral()).value,\n",
    "        (rmf.energ_hi[-1] * u.keV).to(u.Angstrom, equivalencies=u.spectral()).value,\n",
    "    ),\n",
    "    aspect=\"auto\",\n",
    ")\n",
    "ax.set_ylabel(\"wavelength [Ang]\")\n",
    "ax.set_xlabel(\"spectral channel number\")\n",
    "cbar = fig.colorbar(im)"
   ]
  },
  {
   "cell_type": "code",
   "execution_count": null,
   "metadata": {},
   "outputs": [],
   "source": [
    "rmf.ethresh"
   ]
  },
  {
   "cell_type": "code",
   "execution_count": null,
   "metadata": {},
   "outputs": [],
   "source": [
    "rmf.f_chan[-100:].mean()"
   ]
  },
  {
   "cell_type": "code",
   "execution_count": null,
   "metadata": {},
   "outputs": [],
   "source": [
    "ui.load_pha(\"R1\", \"../data/default/P0502370201R1S001SRSPEC1001.FIT\")\n",
    "ui.load_rmf(\"R1\", \"../data/default/P0502370201R1S001RSPMAT1001.FIT\")\n",
    "ui.set_analysis('wave')"
   ]
  },
  {
   "cell_type": "code",
   "execution_count": null,
   "metadata": {},
   "outputs": [],
   "source": [
    "ui.ignore(25, None)\n",
    "ui.ignore(None, 7.5)"
   ]
  },
  {
   "cell_type": "code",
   "execution_count": null,
   "metadata": {},
   "outputs": [],
   "source": [
    "ui.set_source(\"R1\", ui.xsphabs.abs1 * (ui.xsvapec.v1 + ui.xsvapec.v2))"
   ]
  },
  {
   "cell_type": "code",
   "execution_count": null,
   "metadata": {},
   "outputs": [],
   "source": [
    "v1.kT = 0.5\n",
    "abs1.nH = 0.1\n",
    "v2.kT=4"
   ]
  },
  {
   "cell_type": "code",
   "execution_count": null,
   "metadata": {},
   "outputs": [],
   "source": [
    "ui.set_stat('Cash')\n",
    "ui.fit(\"R1\")"
   ]
  },
  {
   "cell_type": "code",
   "execution_count": null,
   "metadata": {},
   "outputs": [],
   "source": [
    "ui.plot_source(\"R1\")"
   ]
  },
  {
   "cell_type": "code",
   "execution_count": null,
   "metadata": {},
   "outputs": [],
   "source": [
    "ui.group_counts(\"R1\", 5)\n",
    "ui.plot_fit(\"R1\")"
   ]
  },
  {
   "cell_type": "code",
   "execution_count": null,
   "metadata": {},
   "outputs": [],
   "source": []
  },
  {
   "cell_type": "code",
   "execution_count": null,
   "metadata": {},
   "outputs": [],
   "source": []
  }
 ],
 "metadata": {
  "kernelspec": {
   "display_name": "ciao-4.16",
   "language": "python",
   "name": "python3"
  },
  "language_info": {
   "codemirror_mode": {
    "name": "ipython",
    "version": 3
   },
   "file_extension": ".py",
   "mimetype": "text/x-python",
   "name": "python",
   "nbconvert_exporter": "python",
   "pygments_lexer": "ipython3",
   "version": "3.11.6"
  }
 },
 "nbformat": 4,
 "nbformat_minor": 2
}
