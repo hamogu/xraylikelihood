{
 "cells": [
  {
   "cell_type": "code",
   "execution_count": null,
   "metadata": {},
   "outputs": [],
   "source": [
    "from astropy.io import fits\n",
    "import numpy as np"
   ]
  },
  {
   "cell_type": "code",
   "execution_count": null,
   "metadata": {},
   "outputs": [],
   "source": [
    "from sherpa.astro import ui\n",
    "\n",
    "import matplotlib.pyplot as plt"
   ]
  },
  {
   "cell_type": "code",
   "execution_count": null,
   "metadata": {},
   "outputs": [],
   "source": [
    "ui.set_xsabund(\"aspl\")"
   ]
  },
  {
   "cell_type": "code",
   "execution_count": null,
   "metadata": {},
   "outputs": [],
   "source": [
    "# Lead default dataset with backgrounds\n",
    "# Wont' use that now, but maybe I need it later for testing.\n",
    "# I've types all the file names in here, so I might as well keep it for now.\n",
    "\n",
    "ui.load_pha(\"R1\", \"../data/default/P0502370201R1S001SRSPEC1001.FIT\")\n",
    "ui.load_rmf(\"R1\", \"../data/default/P0502370201R1S001RSPMAT1001.FIT\")\n",
    "ui.load_bkg(\"R1\", \"../data/default/P0502370201R1S001BGSPEC1001.FIT\")\n",
    "ui.load_pha(\"R2\", \"../data/default/P0502370201R2S004SRSPEC1001.FIT\")\n",
    "ui.load_rmf(\"R2\", \"../data/default/P0502370201R2S004RSPMAT1001.FIT\")\n",
    "ui.load_bkg(\"R2\", \"../data/default/P0502370201R2S004BGSPEC1001.FIT\")\n",
    "\n",
    "for psf_frac in [50, 75, 90, 95, 98]:\n",
    "    ui.load_pha(\n",
    "        f\"{psf_frac}_R1\", f\"../data/psf_{psf_frac}/P0502370201R1S001SRSPEC1001.FIT\"\n",
    "    )\n",
    "    ui.load_rmf(\n",
    "        f\"{psf_frac}_R1\", f\"../data/psf_{psf_frac}/P0502370201R1S001RSPMAT1001.FIT\"\n",
    "    )\n",
    "    ui.load_pha(\n",
    "        f\"{psf_frac}_R2\", f\"../data/psf_{psf_frac}/P0502370201R2S004SRSPEC1001.FIT\"\n",
    "    )\n",
    "    ui.load_rmf(\n",
    "        f\"{psf_frac}_R2\", f\"../data/psf_{psf_frac}/P0502370201R2S004RSPMAT1001.FIT\"\n",
    "    )"
   ]
  },
  {
   "cell_type": "code",
   "execution_count": null,
   "metadata": {},
   "outputs": [],
   "source": [
    "ui.set_analysis(\"wave\")\n",
    "ui.set_stat('cash')"
   ]
  },
  {
   "cell_type": "code",
   "execution_count": null,
   "metadata": {},
   "outputs": [],
   "source": [
    "ui.plot_data(\"R1\", yerrorbars=False, linestyle=\"solid\")\n",
    "ui.plot_data(\"50_R1\", overplot=True, yerrorbars=False, linestyle=\"solid\")\n",
    "ui.plot_data(\"98_R1\", overplot=True, yerrorbars=False, linestyle=\"solid\")\n",
    "# ui.plot_data(\"R2\", overplot=True)\n",
    "ax = plt.gca()\n",
    "ax.set_xlim(21.3, 22.4)\n",
    "ax.set_ylim(None, 0.015)"
   ]
  },
  {
   "cell_type": "code",
   "execution_count": null,
   "metadata": {},
   "outputs": [],
   "source": [
    "from sherpa.astro.xspec import XSgaussian, XSconstant\n",
    "from sherpa.astro import hc"
   ]
  },
  {
   "cell_type": "code",
   "execution_count": null,
   "metadata": {},
   "outputs": [],
   "source": [
    "def make_triplet():\n",
    "    r = XSgaussian(\"r\")\n",
    "    i = XSgaussian(\"i\")\n",
    "    f = XSgaussian(\"f\")\n",
    "\n",
    "    r.lineE = hc / 21.6\n",
    "    i.lineE = hc / 21.8\n",
    "    f.lineE = hc / 22.1\n",
    "\n",
    "    for m in [r, i, f]:\n",
    "        m.norm = 1e-5\n",
    "        m.LineE.frozen = True\n",
    "        m.sigma = 0.0001\n",
    "        m.sigma.frozen = True\n",
    "\n",
    "    const = XSconstant(\"const\")\n",
    "    const.factor = 2e-6\n",
    "    return const + r + i + f\n"
   ]
  },
  {
   "cell_type": "code",
   "execution_count": null,
   "metadata": {},
   "outputs": [],
   "source": [
    "t50 = make_triplet()\n",
    "ui.set_source(\"R1\", t50)"
   ]
  },
  {
   "cell_type": "code",
   "execution_count": null,
   "metadata": {},
   "outputs": [],
   "source": [
    "ui.ignore(0, 21.3)\n",
    "ui.ignore(22.3, None)\n",
    "ui.notice(21.3, 22.3)"
   ]
  },
  {
   "cell_type": "code",
   "execution_count": null,
   "metadata": {},
   "outputs": [],
   "source": [
    "t98 = make_triplet()\n",
    "ui.set_source(\"98_R1\", t98)\n",
    "t50 = make_triplet()\n",
    "ui.set_source(\"50_R1\", t50)"
   ]
  },
  {
   "cell_type": "code",
   "execution_count": null,
   "metadata": {},
   "outputs": [],
   "source": [
    "t98.parts[0].parts[0].parts[0].factor = 1e-7\n",
    "ui.fit(\"98_R1\")\n",
    "ui.conf(\"98_R1\")"
   ]
  },
  {
   "cell_type": "code",
   "execution_count": null,
   "metadata": {},
   "outputs": [],
   "source": [
    "ui.fit(\"50_R1\")\n",
    "ui.conf(\"50_R1\")"
   ]
  },
  {
   "cell_type": "code",
   "execution_count": null,
   "metadata": {},
   "outputs": [],
   "source": [
    "ui.plot_fit(\"50_R1\")\n",
    "ui.plot_fit(\"98_R1\", overplot=True)"
   ]
  },
  {
   "cell_type": "code",
   "execution_count": null,
   "metadata": {},
   "outputs": [],
   "source": []
  },
  {
   "cell_type": "code",
   "execution_count": null,
   "metadata": {},
   "outputs": [],
   "source": []
  },
  {
   "cell_type": "code",
   "execution_count": null,
   "metadata": {},
   "outputs": [],
   "source": []
  },
  {
   "cell_type": "code",
   "execution_count": null,
   "metadata": {},
   "outputs": [],
   "source": [
    "from sherpa.astro.io import _reconstruct_rmf"
   ]
  },
  {
   "cell_type": "code",
   "execution_count": null,
   "metadata": {},
   "outputs": [],
   "source": [
    "def rmf_to_2dmatrix(rmf):\n",
    "    \"\"\"\n",
    "\n",
    "    Not very efficient (double loops in Python).\n",
    "    This is meant for a single conversion for plotting, not for numerical\n",
    "    evaluation.\n",
    "    \"\"\"\n",
    "    rrmf = _reconstruct_rmf(rmf)\n",
    "    # find max length of a row\n",
    "    # All written for the case of n_grp being a vector.\n",
    "    # Could be a number,\n",
    "    # And for the other being 2D vectors (could be number of 1d)\n",
    "    # Still, I think it's better to start from _reconstruct_rmf\n",
    "    # to enure consistency. It's easy to be off by one\n",
    "    # On the other hand, if I start from the Sherpa arrays like in plots_for_expl\n",
    "    # then I don't hve ot deal with the 1D/2D vectors\n",
    "    # np.atleast2d should be able to make that simply though - unless it's \"object\" type\n",
    "    max_len = np.zeros_like(rrmf[\"N_GRP\"])\n",
    "    for i, ngrp in enumerate(rrmf[\"N_GRP\"]):\n",
    "        max_len[i] = rrmf[\"F_CHAN\"][i][ngrp - 1] + rrmf[\"N_CHAN\"][i][ngrp - 1]\n",
    "\n",
    "    matrix = np.zeros((len(rrmf[\"N_GRP\"]), max_len.max()))\n",
    "    for i, ngrp in enumerate(rrmf[\"N_GRP\"]):\n",
    "        for j in range(ngrp):\n",
    "            chans = slice(\n",
    "                rrmf[\"F_CHAN\"][i][j], rrmf[\"F_CHAN\"][i][j] + rrmf[\"N_CHAN\"][i][j]\n",
    "            )\n",
    "            cum_n_chan = np.sum(rrmf[\"N_CHAN\"][i][:j])\n",
    "            matrix[i, chans] = rrmf[\"MATRIX\"][i][\n",
    "                cum_n_chan : cum_n_chan + rrmf[\"N_CHAN\"][i][j]\n",
    "            ]\n",
    "    return matrix"
   ]
  },
  {
   "cell_type": "code",
   "execution_count": null,
   "metadata": {},
   "outputs": [],
   "source": [
    "from sherpa.astro.io import read_rmf, read_pha\n",
    "psf_fracs = [50, 75, 90, 95, 98]"
   ]
  },
  {
   "cell_type": "code",
   "execution_count": null,
   "metadata": {},
   "outputs": [],
   "source": [
    "rmfs = []\n",
    "phas = []\n",
    "for psf_frac in psf_fracs:\n",
    "    rmfs.append(read_rmf(f\"../data/psf_{psf_frac}/P0502370201R1S001RSPMAT1001.FIT\"))\n",
    "    phas.append(read_pha(f\"../data/psf_{psf_frac}/P0502370201R1S001SRSPEC1001.FIT\"))"
   ]
  },
  {
   "cell_type": "code",
   "execution_count": null,
   "metadata": {},
   "outputs": [],
   "source": [
    "# Need to start with the outermost region\n",
    "\n",
    "for i in range(len(psf_fracs) - 1, 0, -1):\n",
    "    phas[i].counts -= phas[i - 1].counts\n",
    "    mat = rmf_to_2dmatrix(rmfs[i])\n",
    "    # mat_base is the mat for the next iteration\n",
    "    # Could save 50% runtime by keeping a reference\n",
    "    mat_base = rmf_to_2dmatrix(rmfs[i - 1])\n",
    "    diff = mat - mat_base\n",
    "    rmfs[i].matrix = diff[mat.nonzero()]"
   ]
  },
  {
   "cell_type": "code",
   "execution_count": null,
   "metadata": {},
   "outputs": [],
   "source": [
    "for i, psf_frac in enumerate(psf_fracs):\n",
    "    ui.set_data(f\"p{psf_frac}\", phas[i])\n",
    "    ui.set_rmf(f\"p{psf_frac}\", rmfs[i])"
   ]
  },
  {
   "cell_type": "code",
   "execution_count": null,
   "metadata": {},
   "outputs": [],
   "source": [
    "ui.set_analysis(\"wave\")\n",
    "ui.ignore(0, 21.3)\n",
    "ui.ignore(22.4, None)\n",
    "ui.notice(21.3, 22.4)\n",
    "\n",
    "ui.plot_data(\"p50\")\n",
    "ui.plot_data(\"p98\", overplot=True)"
   ]
  },
  {
   "cell_type": "code",
   "execution_count": null,
   "metadata": {},
   "outputs": [],
   "source": [
    "from astropy.table import Table\n",
    "import astropy.units as u\n",
    "from astropy.io import fits\n",
    "\n",
    "src_list = \"../data/psf_66/P0502370201R1S001SRCLI_0000.FIT\"\n",
    "reg_spatial = Table.read(src_list, hdu=f\"RGS1_SRC1_SPATIAL\")\n",
    "reg_spatial[\"XDSP_CORR\"].unit = u.rad"
   ]
  },
  {
   "cell_type": "code",
   "execution_count": null,
   "metadata": {},
   "outputs": [],
   "source": [
    "# Changes with wavelength are pretty small. \n",
    "# Could interpolate what's in the regions to the wavelength I want,\n",
    "# but seems that that's not actually needed here.\n",
    "# Or could read directly from XMM calibration data\n",
    "def xdisp(wave, src_list):\n",
    "    # load file\n",
    "    reg_spatial = Table.read(src_list, hdu=f\"RGS1_SRC1_SPATIAL\")\n",
    "    reg_spatial[\"XDSP_CORR\"].unit = u.rad\n",
    "    for row in reg_spatial:\n",
    "        if (np.min(row[\"LAMBDA\"]) < wave) and (np.max(row['LAMBDA']) > wave):\n",
    "            break\n",
    "    return row, np.max(row['XDSP_CORR'])"
   ]
  },
  {
   "cell_type": "code",
   "execution_count": null,
   "metadata": {},
   "outputs": [],
   "source": [
    "xdisps = []\n",
    "for psf_frac in [50, 75, 90, 95, 98]:\n",
    "    src_list = f\"../data/psf_{psf_frac}/P0502370201R1S001SRCLI_0000.FIT\"\n",
    "    xdisps.append(xdisp(21.6, src_list)[1])\n",
    "xdisps = np.array(xdisps)"
   ]
  },
  {
   "cell_type": "code",
   "execution_count": null,
   "metadata": {},
   "outputs": [],
   "source": [
    "    rline = XSgaussian(\"r\")\n",
    "    iline = XSgaussian(\"i\")\n",
    "    fline = XSgaussian(\"f\")\n",
    "\n",
    "    rline.lineE = hc / 21.6\n",
    "    iline.lineE = hc / 21.8\n",
    "    fline.lineE = hc / 22.1\n",
    "\n",
    "    for m in [rline, iline, fline]:\n",
    "        m.norm = 1e-5\n",
    "        m.LineE.frozen = True\n",
    "        m.sigma = 0.0001\n",
    "        m.sigma.frozen = True\n",
    "\n",
    "    const = XSconstant(\"const\")\n",
    "    const.factor = 2e-6"
   ]
  },
  {
   "cell_type": "code",
   "execution_count": null,
   "metadata": {},
   "outputs": [],
   "source": [
    "for i in range(len(xdisps)-1, 0, -1):\n",
    "    xdisps[i] -= xdisps[i - 1]"
   ]
  },
  {
   "cell_type": "code",
   "execution_count": null,
   "metadata": {},
   "outputs": [],
   "source": [
    "normed_xdisp  = xdisps / xdisps[0]"
   ]
  },
  {
   "cell_type": "code",
   "execution_count": null,
   "metadata": {},
   "outputs": [],
   "source": [
    "for i, psf_frac in enumerate(psf_fracs):\n",
    "    ui.set_source(f\"p{psf_frac}\", normed_xdisp[i] * const + rline + iline + fline)"
   ]
  },
  {
   "cell_type": "code",
   "execution_count": null,
   "metadata": {},
   "outputs": [],
   "source": [
    "iline.norm=1e-5\n",
    "const.factor = 1e-7"
   ]
  },
  {
   "cell_type": "code",
   "execution_count": null,
   "metadata": {},
   "outputs": [],
   "source": [
    "ui.fit('p50')"
   ]
  },
  {
   "cell_type": "code",
   "execution_count": null,
   "metadata": {},
   "outputs": [],
   "source": [
    "ui.fit(*[f\"p{psf_frac}\" for psf_frac in psf_fracs])"
   ]
  },
  {
   "cell_type": "code",
   "execution_count": null,
   "metadata": {},
   "outputs": [],
   "source": [
    "#ui.plot_fit('p50')\n",
    "#ui.plot_fit('p75', overplot=True)\n",
    "ui.plot_fit('p98', overplot=True)"
   ]
  },
  {
   "cell_type": "code",
   "execution_count": null,
   "metadata": {},
   "outputs": [],
   "source": [
    "1.3**3"
   ]
  },
  {
   "cell_type": "code",
   "execution_count": null,
   "metadata": {},
   "outputs": [],
   "source": []
  }
 ],
 "metadata": {
  "kernelspec": {
   "display_name": "ciao-4.16",
   "language": "python",
   "name": "python3"
  },
  "language_info": {
   "codemirror_mode": {
    "name": "ipython",
    "version": 3
   },
   "file_extension": ".py",
   "mimetype": "text/x-python",
   "name": "python",
   "nbconvert_exporter": "python",
   "pygments_lexer": "ipython3",
   "version": "3.11.6"
  }
 },
 "nbformat": 4,
 "nbformat_minor": 2
}
